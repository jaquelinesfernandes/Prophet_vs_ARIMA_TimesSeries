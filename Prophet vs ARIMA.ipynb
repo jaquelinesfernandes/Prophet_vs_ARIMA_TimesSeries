{
 "cells": [
  {
   "cell_type": "markdown",
   "id": "b0071744",
   "metadata": {},
   "source": [
    "### Projeto: Prophet vs. ARIMA\n",
    "Comparação de uma série temporal simulada com alta sazonalidade com modelos Prophet e ARIMA."
   ]
  },
  {
   "cell_type": "markdown",
   "id": "3b9c5eb3",
   "metadata": {},
   "source": [
    "https://colab.research.google.com/drive/1DXNiukEIeaV4EF993ddqNLQC_fnOtyDd#scrollTo=DMGUG2agJSym"
   ]
  },
  {
   "cell_type": "code",
   "execution_count": 1,
   "id": "249d0ce9",
   "metadata": {},
   "outputs": [
    {
     "name": "stdout",
     "output_type": "stream",
     "text": [
      "Requirement already satisfied: prophet in c:\\users\\user\\anaconda3\\lib\\site-packages (1.1.7)\n",
      "Requirement already satisfied: cmdstanpy>=1.0.4 in c:\\users\\user\\anaconda3\\lib\\site-packages (from prophet) (1.2.5)\n",
      "Requirement already satisfied: numpy>=1.15.4 in c:\\users\\user\\anaconda3\\lib\\site-packages (from prophet) (1.26.4)\n",
      "Requirement already satisfied: matplotlib>=2.0.0 in c:\\users\\user\\anaconda3\\lib\\site-packages (from prophet) (3.8.4)\n",
      "Requirement already satisfied: pandas>=1.0.4 in c:\\users\\user\\anaconda3\\lib\\site-packages (from prophet) (2.2.2)\n",
      "Requirement already satisfied: holidays<1,>=0.25 in c:\\users\\user\\anaconda3\\lib\\site-packages (from prophet) (0.76)\n",
      "Requirement already satisfied: tqdm>=4.36.1 in c:\\users\\user\\anaconda3\\lib\\site-packages (from prophet) (4.66.4)\n",
      "Requirement already satisfied: importlib_resources in c:\\users\\user\\anaconda3\\lib\\site-packages (from prophet) (6.5.2)\n",
      "Requirement already satisfied: stanio<2.0.0,>=0.4.0 in c:\\users\\user\\anaconda3\\lib\\site-packages (from cmdstanpy>=1.0.4->prophet) (0.5.1)\n",
      "Requirement already satisfied: python-dateutil in c:\\users\\user\\anaconda3\\lib\\site-packages (from holidays<1,>=0.25->prophet) (2.9.0.post0)\n",
      "Requirement already satisfied: contourpy>=1.0.1 in c:\\users\\user\\anaconda3\\lib\\site-packages (from matplotlib>=2.0.0->prophet) (1.2.0)\n",
      "Requirement already satisfied: cycler>=0.10 in c:\\users\\user\\anaconda3\\lib\\site-packages (from matplotlib>=2.0.0->prophet) (0.11.0)\n",
      "Requirement already satisfied: fonttools>=4.22.0 in c:\\users\\user\\anaconda3\\lib\\site-packages (from matplotlib>=2.0.0->prophet) (4.51.0)\n",
      "Requirement already satisfied: kiwisolver>=1.3.1 in c:\\users\\user\\anaconda3\\lib\\site-packages (from matplotlib>=2.0.0->prophet) (1.4.4)\n",
      "Requirement already satisfied: packaging>=20.0 in c:\\users\\user\\anaconda3\\lib\\site-packages (from matplotlib>=2.0.0->prophet) (23.2)\n",
      "Requirement already satisfied: pillow>=8 in c:\\users\\user\\anaconda3\\lib\\site-packages (from matplotlib>=2.0.0->prophet) (10.3.0)\n",
      "Requirement already satisfied: pyparsing>=2.3.1 in c:\\users\\user\\anaconda3\\lib\\site-packages (from matplotlib>=2.0.0->prophet) (3.0.9)\n",
      "Requirement already satisfied: pytz>=2020.1 in c:\\users\\user\\anaconda3\\lib\\site-packages (from pandas>=1.0.4->prophet) (2024.1)\n",
      "Requirement already satisfied: tzdata>=2022.7 in c:\\users\\user\\anaconda3\\lib\\site-packages (from pandas>=1.0.4->prophet) (2023.3)\n",
      "Requirement already satisfied: colorama in c:\\users\\user\\appdata\\roaming\\python\\python312\\site-packages (from tqdm>=4.36.1->prophet) (0.4.6)\n",
      "Requirement already satisfied: six>=1.5 in c:\\users\\user\\anaconda3\\lib\\site-packages (from python-dateutil->holidays<1,>=0.25->prophet) (1.16.0)\n",
      "Collecting pystan==2.19.1.1\n",
      "  Using cached pystan-2.19.1.1.tar.gz (16.2 MB)\n",
      "  Preparing metadata (setup.py): started\n",
      "  Preparing metadata (setup.py): finished with status 'done'\n",
      "Requirement already satisfied: Cython!=0.25.1,>=0.22 in c:\\users\\user\\anaconda3\\lib\\site-packages (from pystan==2.19.1.1) (3.1.2)\n",
      "Requirement already satisfied: numpy>=1.7 in c:\\users\\user\\anaconda3\\lib\\site-packages (from pystan==2.19.1.1) (1.26.4)\n",
      "Building wheels for collected packages: pystan\n",
      "  Building wheel for pystan (setup.py): started\n",
      "  Building wheel for pystan (setup.py): finished with status 'error'\n",
      "  Running setup.py clean for pystan\n",
      "Failed to build pystan\n"
     ]
    },
    {
     "name": "stderr",
     "output_type": "stream",
     "text": [
      "  error: subprocess-exited-with-error\n",
      "  \n",
      "  × python setup.py bdist_wheel did not run successfully.\n",
      "  │ exit code: 1\n",
      "  ╰─> [4 lines of output]\n",
      "      Warning: MSVC is not supported\n",
      "      C:\\Users\\User\\AppData\\Local\\Temp\\pip-install-qz1qms6y\\pystan_903ee9d918554fd08a49a3a7929be701\\setup.py:61: DeprecationWarning: Attribute s is deprecated and will be removed in Python 3.14; use value instead\n",
      "        self.version = node.value.s\n",
      "      Cython>=0.22 and NumPy are required.\n",
      "      [end of output]\n",
      "  \n",
      "  note: This error originates from a subprocess, and is likely not a problem with pip.\n",
      "  ERROR: Failed building wheel for pystan\n",
      "ERROR: Could not build wheels for pystan, which is required to install pyproject.toml-based projects\n"
     ]
    }
   ],
   "source": [
    "!python -m pip install prophet\n",
    "!pip install pystan==2.19.1.1"
   ]
  },
  {
   "cell_type": "code",
   "execution_count": 2,
   "id": "006127cc",
   "metadata": {},
   "outputs": [],
   "source": [
    "import numpy as np\n",
    "import pandas as pd\n",
    "import matplotlib.pyplot as plt\n",
    "from prophet import Prophet\n",
    "from statsmodels.tsa.arima.model import ARIMA"
   ]
  },
  {
   "cell_type": "code",
   "execution_count": 3,
   "id": "56434207",
   "metadata": {},
   "outputs": [],
   "source": [
    "# ======================\n",
    "# 1. Criar série simulada\n",
    "# ======================\n",
    "np.random.seed(42)\n",
    "periods = 365 * 3\n",
    "dates = pd.date_range(start=\"2020-01-01\", periods=periods, freq='D')\n",
    "trend = np.linspace(50, 100, periods)\n",
    "seasonality = 10 * np.sin(2 * np.pi * dates.dayofyear / 365.25)\n",
    "noise = np.random.normal(0, 2, periods)\n",
    "values = trend + seasonality + noise"
   ]
  },
  {
   "cell_type": "code",
   "execution_count": 4,
   "id": "b656dd9b",
   "metadata": {},
   "outputs": [],
   "source": [
    "# DataFrame para Prophet\n",
    "df_prophet = pd.DataFrame({'ds': dates, 'y': values})"
   ]
  },
  {
   "cell_type": "code",
   "execution_count": 5,
   "id": "7774c6f4",
   "metadata": {},
   "outputs": [
    {
     "data": {
      "application/vnd.microsoft.datawrangler.viewer.v0+json": {
       "columns": [
        {
         "name": "index",
         "rawType": "int64",
         "type": "integer"
        },
        {
         "name": "ds",
         "rawType": "datetime64[ns]",
         "type": "datetime"
        },
        {
         "name": "y",
         "rawType": "float64",
         "type": "float"
        }
       ],
       "ref": "cc401f3e-b42e-4aef-b75c-a03cda710e77",
       "rows": [
        [
         "0",
         "2020-01-01 00:00:00",
         "51.16544406020507"
        ],
        [
         "1",
         "2020-01-02 00:00:00",
         "50.1131558429162"
        ],
        [
         "2",
         "2020-01-03 00:00:00",
         "51.902628423140435"
        ],
        [
         "3",
         "2020-01-04 00:00:00",
         "53.87072531499491"
        ],
        [
         "4",
         "2020-01-05 00:00:00",
         "50.573569649656605"
        ]
       ],
       "shape": {
        "columns": 2,
        "rows": 5
       }
      },
      "text/html": [
       "<div>\n",
       "<style scoped>\n",
       "    .dataframe tbody tr th:only-of-type {\n",
       "        vertical-align: middle;\n",
       "    }\n",
       "\n",
       "    .dataframe tbody tr th {\n",
       "        vertical-align: top;\n",
       "    }\n",
       "\n",
       "    .dataframe thead th {\n",
       "        text-align: right;\n",
       "    }\n",
       "</style>\n",
       "<table border=\"1\" class=\"dataframe\">\n",
       "  <thead>\n",
       "    <tr style=\"text-align: right;\">\n",
       "      <th></th>\n",
       "      <th>ds</th>\n",
       "      <th>y</th>\n",
       "    </tr>\n",
       "  </thead>\n",
       "  <tbody>\n",
       "    <tr>\n",
       "      <th>0</th>\n",
       "      <td>2020-01-01</td>\n",
       "      <td>51.165444</td>\n",
       "    </tr>\n",
       "    <tr>\n",
       "      <th>1</th>\n",
       "      <td>2020-01-02</td>\n",
       "      <td>50.113156</td>\n",
       "    </tr>\n",
       "    <tr>\n",
       "      <th>2</th>\n",
       "      <td>2020-01-03</td>\n",
       "      <td>51.902628</td>\n",
       "    </tr>\n",
       "    <tr>\n",
       "      <th>3</th>\n",
       "      <td>2020-01-04</td>\n",
       "      <td>53.870725</td>\n",
       "    </tr>\n",
       "    <tr>\n",
       "      <th>4</th>\n",
       "      <td>2020-01-05</td>\n",
       "      <td>50.573570</td>\n",
       "    </tr>\n",
       "  </tbody>\n",
       "</table>\n",
       "</div>"
      ],
      "text/plain": [
       "          ds          y\n",
       "0 2020-01-01  51.165444\n",
       "1 2020-01-02  50.113156\n",
       "2 2020-01-03  51.902628\n",
       "3 2020-01-04  53.870725\n",
       "4 2020-01-05  50.573570"
      ]
     },
     "execution_count": 5,
     "metadata": {},
     "output_type": "execute_result"
    }
   ],
   "source": [
    "df_prophet.head()"
   ]
  },
  {
   "cell_type": "code",
   "execution_count": 6,
   "id": "1dcf859a",
   "metadata": {},
   "outputs": [],
   "source": [
    "# DataFrame para ARIMA\n",
    "df_arima = pd.DataFrame({'y': values}, index=dates)"
   ]
  },
  {
   "cell_type": "code",
   "execution_count": 7,
   "id": "a99d4409",
   "metadata": {},
   "outputs": [
    {
     "data": {
      "application/vnd.microsoft.datawrangler.viewer.v0+json": {
       "columns": [
        {
         "name": "index",
         "rawType": "datetime64[ns]",
         "type": "datetime"
        },
        {
         "name": "y",
         "rawType": "float64",
         "type": "float"
        }
       ],
       "ref": "75406cc1-5e95-422c-add0-a46f8dcd7776",
       "rows": [
        [
         "2020-01-01 00:00:00",
         "51.16544406020507"
        ],
        [
         "2020-01-02 00:00:00",
         "50.1131558429162"
        ],
        [
         "2020-01-03 00:00:00",
         "51.902628423140435"
        ],
        [
         "2020-01-04 00:00:00",
         "53.87072531499491"
        ],
        [
         "2020-01-05 00:00:00",
         "50.573569649656605"
        ]
       ],
       "shape": {
        "columns": 1,
        "rows": 5
       }
      },
      "text/html": [
       "<div>\n",
       "<style scoped>\n",
       "    .dataframe tbody tr th:only-of-type {\n",
       "        vertical-align: middle;\n",
       "    }\n",
       "\n",
       "    .dataframe tbody tr th {\n",
       "        vertical-align: top;\n",
       "    }\n",
       "\n",
       "    .dataframe thead th {\n",
       "        text-align: right;\n",
       "    }\n",
       "</style>\n",
       "<table border=\"1\" class=\"dataframe\">\n",
       "  <thead>\n",
       "    <tr style=\"text-align: right;\">\n",
       "      <th></th>\n",
       "      <th>y</th>\n",
       "    </tr>\n",
       "  </thead>\n",
       "  <tbody>\n",
       "    <tr>\n",
       "      <th>2020-01-01</th>\n",
       "      <td>51.165444</td>\n",
       "    </tr>\n",
       "    <tr>\n",
       "      <th>2020-01-02</th>\n",
       "      <td>50.113156</td>\n",
       "    </tr>\n",
       "    <tr>\n",
       "      <th>2020-01-03</th>\n",
       "      <td>51.902628</td>\n",
       "    </tr>\n",
       "    <tr>\n",
       "      <th>2020-01-04</th>\n",
       "      <td>53.870725</td>\n",
       "    </tr>\n",
       "    <tr>\n",
       "      <th>2020-01-05</th>\n",
       "      <td>50.573570</td>\n",
       "    </tr>\n",
       "  </tbody>\n",
       "</table>\n",
       "</div>"
      ],
      "text/plain": [
       "                    y\n",
       "2020-01-01  51.165444\n",
       "2020-01-02  50.113156\n",
       "2020-01-03  51.902628\n",
       "2020-01-04  53.870725\n",
       "2020-01-05  50.573570"
      ]
     },
     "execution_count": 7,
     "metadata": {},
     "output_type": "execute_result"
    }
   ],
   "source": [
    "df_arima.head()"
   ]
  },
  {
   "cell_type": "code",
   "execution_count": 8,
   "id": "7245eb4a",
   "metadata": {},
   "outputs": [
    {
     "ename": "AttributeError",
     "evalue": "'Prophet' object has no attribute 'stan_backend'",
     "output_type": "error",
     "traceback": [
      "\u001b[1;31m---------------------------------------------------------------------------\u001b[0m",
      "\u001b[1;31mAttributeError\u001b[0m                            Traceback (most recent call last)",
      "Cell \u001b[1;32mIn[8], line 4\u001b[0m\n\u001b[0;32m      1\u001b[0m \u001b[38;5;66;03m# ======================\u001b[39;00m\n\u001b[0;32m      2\u001b[0m \u001b[38;5;66;03m# 2. Modelo Prophet\u001b[39;00m\n\u001b[0;32m      3\u001b[0m \u001b[38;5;66;03m# ======================\u001b[39;00m\n\u001b[1;32m----> 4\u001b[0m model_prophet \u001b[38;5;241m=\u001b[39m \u001b[43mProphet\u001b[49m\u001b[43m(\u001b[49m\u001b[43myearly_seasonality\u001b[49m\u001b[38;5;241;43m=\u001b[39;49m\u001b[38;5;28;43;01mTrue\u001b[39;49;00m\u001b[43m)\u001b[49m\n\u001b[0;32m      5\u001b[0m model_prophet\u001b[38;5;241m.\u001b[39mfit(df_prophet)\n\u001b[0;32m      6\u001b[0m future_prophet \u001b[38;5;241m=\u001b[39m model_prophet\u001b[38;5;241m.\u001b[39mmake_future_dataframe(periods\u001b[38;5;241m=\u001b[39m\u001b[38;5;241m180\u001b[39m)\n",
      "File \u001b[1;32mc:\\Users\\User\\anaconda3\\Lib\\site-packages\\prophet\\forecaster.py:158\u001b[0m, in \u001b[0;36mProphet.__init__\u001b[1;34m(self, growth, changepoints, n_changepoints, changepoint_range, yearly_seasonality, weekly_seasonality, daily_seasonality, holidays, seasonality_mode, seasonality_prior_scale, holidays_prior_scale, changepoint_prior_scale, mcmc_samples, interval_width, uncertainty_samples, stan_backend, scaling, holidays_mode)\u001b[0m\n\u001b[0;32m    156\u001b[0m \u001b[38;5;28mself\u001b[39m\u001b[38;5;241m.\u001b[39mfit_kwargs \u001b[38;5;241m=\u001b[39m {}\n\u001b[0;32m    157\u001b[0m \u001b[38;5;28mself\u001b[39m\u001b[38;5;241m.\u001b[39mvalidate_inputs()\n\u001b[1;32m--> 158\u001b[0m \u001b[38;5;28;43mself\u001b[39;49m\u001b[38;5;241;43m.\u001b[39;49m\u001b[43m_load_stan_backend\u001b[49m\u001b[43m(\u001b[49m\u001b[43mstan_backend\u001b[49m\u001b[43m)\u001b[49m\n",
      "File \u001b[1;32mc:\\Users\\User\\anaconda3\\Lib\\site-packages\\prophet\\forecaster.py:171\u001b[0m, in \u001b[0;36mProphet._load_stan_backend\u001b[1;34m(self, stan_backend)\u001b[0m\n\u001b[0;32m    168\u001b[0m \u001b[38;5;28;01melse\u001b[39;00m:\n\u001b[0;32m    169\u001b[0m     \u001b[38;5;28mself\u001b[39m\u001b[38;5;241m.\u001b[39mstan_backend \u001b[38;5;241m=\u001b[39m StanBackendEnum\u001b[38;5;241m.\u001b[39mget_backend_class(stan_backend)()\n\u001b[1;32m--> 171\u001b[0m logger\u001b[38;5;241m.\u001b[39mdebug(\u001b[38;5;124m\"\u001b[39m\u001b[38;5;124mLoaded stan backend: \u001b[39m\u001b[38;5;132;01m%s\u001b[39;00m\u001b[38;5;124m\"\u001b[39m, \u001b[38;5;28;43mself\u001b[39;49m\u001b[38;5;241;43m.\u001b[39;49m\u001b[43mstan_backend\u001b[49m\u001b[38;5;241m.\u001b[39mget_type())\n",
      "\u001b[1;31mAttributeError\u001b[0m: 'Prophet' object has no attribute 'stan_backend'"
     ]
    }
   ],
   "source": [
    "# ======================\n",
    "# 2. Modelo Prophet\n",
    "# ======================\n",
    "model_prophet = Prophet(yearly_seasonality=True)\n",
    "model_prophet.fit(df_prophet)\n",
    "future_prophet = model_prophet.make_future_dataframe(periods=180)\n",
    "forecast_prophet = model_prophet.predict(future_prophet)"
   ]
  },
  {
   "cell_type": "code",
   "execution_count": 9,
   "id": "b31dd830",
   "metadata": {},
   "outputs": [],
   "source": [
    "# ======================\n",
    "# 3. Modelo ARIMA\n",
    "# ======================\n",
    "# Ajustar ARIMA(2,1,2) só para exemplo\n",
    "model_arima = ARIMA(df_arima['y'], order=(2,1,2))\n",
    "results_arima = model_arima.fit()"
   ]
  },
  {
   "cell_type": "code",
   "execution_count": 10,
   "id": "acaba522",
   "metadata": {},
   "outputs": [],
   "source": [
    "# Fazer forecast para 180 dias\n",
    "forecast_arima = results_arima.get_forecast(steps=180)\n",
    "arima_pred = forecast_arima.predicted_mean\n",
    "arima_ci = forecast_arima.conf_int()"
   ]
  },
  {
   "cell_type": "code",
   "execution_count": 11,
   "id": "c3dbea49",
   "metadata": {},
   "outputs": [
    {
     "data": {
      "text/plain": [
       "[<matplotlib.lines.Line2D at 0x13a9b965730>]"
      ]
     },
     "execution_count": 11,
     "metadata": {},
     "output_type": "execute_result"
    },
    {
     "data": {
      "image/png": "[encoded data removed]",
      "text/plain": [
       "<Figure size 640x480 with 1 Axes>"
      ]
     },
     "metadata": {},
     "output_type": "display_data"
    }
   ],
   "source": [
    "# Observado\n",
    "plt.plot(df_arima.index, df_arima['y'], label='Observado', color='black')"
   ]
  },
  {
   "cell_type": "code",
   "execution_count": null,
   "id": "6d5cdd7b",
   "metadata": {},
   "outputs": [],
   "source": [
    "# Prophet\n",
    "plt.plot(forecast_prophet['ds'], forecast_prophet['yhat'], label='Prophet', color='blue')"
   ]
  },
  {
   "cell_type": "code",
   "execution_count": null,
   "id": "52c7d952",
   "metadata": {},
   "outputs": [],
   "source": [
    "# ARIMA\n",
    "plt.plot(arima_pred.index, arima_pred, label='ARIMA', color='red')\n",
    "plt.fill_between(arima_ci.index, arima_ci.iloc[:,0], arima_ci.iloc[:,1], color='red', alpha=0.2)"
   ]
  },
  {
   "cell_type": "code",
   "execution_count": null,
   "id": "9e88fc11",
   "metadata": {},
   "outputs": [],
   "source": [
    "# ======================\n",
    "# 4. Plot comparativo\n",
    "# ======================\n",
    "plt.figure(figsize=(14,6))\n",
    "\n",
    "# Observado\n",
    "plt.plot(df_arima.index, df_arima['y'], label='Observado', color='black')\n",
    "\n",
    "# Prophet\n",
    "plt.plot(forecast_prophet['ds'], forecast_prophet['yhat'], label='Prophet', color='blue')\n",
    "\n",
    "# ARIMA\n",
    "plt.plot(arima_pred.index, arima_pred, label='ARIMA', color='red')\n",
    "plt.fill_between(arima_ci.index, arima_ci.iloc[:,0], arima_ci.iloc[:,1], color='red', alpha=0.2)\n",
    "\n",
    "plt.title(\"Comparação Forecast: Prophet vs ARIMA\")\n",
    "plt.legend()\n",
    "plt.grid(True)\n",
    "plt.show()"
   ]
  }
 ],
 "metadata": {
  "kernelspec": {
   "display_name": "base",
   "language": "python",
   "name": "python3"
  },
  "language_info": {
   "codemirror_mode": {
    "name": "ipython",
    "version": 3
   },
   "file_extension": ".py",
   "mimetype": "text/x-python",
   "name": "python",
   "nbconvert_exporter": "python",
   "pygments_lexer": "ipython3",
   "version": "3.12.4"
  }
 },
 "nbformat": 4,
 "nbformat_minor": 5
}
